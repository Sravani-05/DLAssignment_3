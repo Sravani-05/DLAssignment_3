{
  "nbformat": 4,
  "nbformat_minor": 0,
  "metadata": {
    "colab": {
      "provenance": [],
      "authorship_tag": "ABX9TyPBV0T4+naGe5HY18pBIing",
      "include_colab_link": true
    },
    "kernelspec": {
      "name": "python3",
      "display_name": "Python 3"
    },
    "language_info": {
      "name": "python"
    }
  },
  "cells": [
    {
      "cell_type": "markdown",
      "metadata": {
        "id": "view-in-github",
        "colab_type": "text"
      },
      "source": [
        "<a href=\"https://colab.research.google.com/github/Sravani-05/DLAssignment_3/blob/main/NN_Jax.ipynb\" target=\"_parent\"><img src=\"https://colab.research.google.com/assets/colab-badge.svg\" alt=\"Open In Colab\"/></a>"
      ]
    },
    {
      "cell_type": "markdown",
      "source": [
        "**Write a colab in JAX only from scratch 3 layer deep neural network for non linear regression using low-level and high-level API**"
      ],
      "metadata": {
        "id": "TgoHhSczfVcp"
      }
    },
    {
      "cell_type": "code",
      "source": [
        "# Imports\n",
        "\n",
        "import jax\n",
        "from jax import numpy as jnp\n",
        "from jax import grad, value_and_grad\n",
        "from jax.example_libraries import stax, optimizers\n",
        "\n",
        "import numpy as np\n",
        "\n",
        "import matplotlib.pyplot as plt\n",
        "from mpl_toolkits.mplot3d import Axes3D"
      ],
      "metadata": {
        "id": "SRgoj5vAfXRK"
      },
      "execution_count": 1,
      "outputs": []
    },
    {
      "cell_type": "code",
      "source": [
        "# Generate non-linear data\n",
        "\n",
        "n = 1000\n",
        "dim = 3\n",
        "x = np.random.uniform(-1, 1, (n, dim))\n",
        "print('Input shape =', x.shape)"
      ],
      "metadata": {
        "colab": {
          "base_uri": "https://localhost:8080/"
        },
        "id": "C6DiAO7CfoJd",
        "outputId": "b7155240-4229-45d3-ca20-c957a3c5decc"
      },
      "execution_count": 2,
      "outputs": [
        {
          "output_type": "stream",
          "name": "stdout",
          "text": [
            "Input shape = (1000, 3)\n"
          ]
        }
      ]
    },
    {
      "cell_type": "code",
      "source": [
        "# Initialize weights and bias\n",
        "\n",
        "weights = np.array([[2, -3, 1]]).T\n",
        "bias = np.array([8])\n",
        "print('Weights shape =', weights.shape)\n",
        "print('Bias shape =', bias.shape)\n",
        "\n",
        "# non-linear 3 variable function we want to learn\n",
        "y_true = np.einsum('ij, jk -> ik', (x**3),  weights) + np.einsum('ij, jk -> ik', (x**2),  weights) + np.einsum('ij, jk -> ik', x, weights) + bias\n",
        "print('Function output shape =', y_true.shape)"
      ],
      "metadata": {
        "colab": {
          "base_uri": "https://localhost:8080/"
        },
        "id": "zLjxJKiefqkN",
        "outputId": "c6ba9d3a-955d-4adf-914f-b87056bffc2b"
      },
      "execution_count": 3,
      "outputs": [
        {
          "output_type": "stream",
          "name": "stdout",
          "text": [
            "Weights shape = (3, 1)\n",
            "Bias shape = (1,)\n",
            "Function output shape = (1000, 1)\n"
          ]
        }
      ]
    },
    {
      "cell_type": "code",
      "source": [
        "# Hyperparamter initializations\n",
        "\n",
        "input_dim = dim\n",
        "output_dim = 1\n",
        "hidden_dim = 16\n",
        "\n",
        "learning_rate = 0.01\n",
        "num_epochs = 50\n",
        "\n",
        "seed = jax.random.PRNGKey(101)"
      ],
      "metadata": {
        "colab": {
          "base_uri": "https://localhost:8080/"
        },
        "id": "eCrPy20ofrXf",
        "outputId": "edffe391-41ef-4e8f-b302-87dbdcc4dee5"
      },
      "execution_count": 4,
      "outputs": [
        {
          "output_type": "stream",
          "name": "stderr",
          "text": [
            "WARNING:jax._src.lib.xla_bridge:No GPU/TPU found, falling back to CPU. (Set TF_CPP_MIN_LOG_LEVEL=0 and rerun for more info.)\n"
          ]
        }
      ]
    },
    {
      "cell_type": "markdown",
      "source": [
        "**Using low-level API**"
      ],
      "metadata": {
        "id": "Cr8JHyhOfu-T"
      }
    },
    {
      "cell_type": "code",
      "source": [
        "def initialize_weights(input_dim, output_dim, hidden_dim, seed):\n",
        "  weights = []\n",
        "\n",
        "  # Weights for 1st hidden layer\n",
        "  w = jax.random.uniform(key=seed, shape=(input_dim, hidden_dim), minval=-1.0, maxval=1.0, dtype=jnp.float32)\n",
        "  b = jax.random.uniform(key=seed, minval=-1.0, maxval=1.0, shape=(hidden_dim,), dtype=jnp.float32)\n",
        "  weights.append([w,b])\n",
        "\n",
        "  # Weights for 2nd hidden layer\n",
        "  w = jax.random.uniform(key=seed, shape=(hidden_dim, hidden_dim), minval=-1.0, maxval=1.0, dtype=jnp.float32)\n",
        "  b = jax.random.uniform(key=seed, minval=-1.0, maxval=1.0, shape=(hidden_dim,), dtype=jnp.float32)\n",
        "  weights.append([w,b])\n",
        "\n",
        "  # Weights for output layer\n",
        "  w = jax.random.uniform(key=seed, shape=(hidden_dim, output_dim), minval=-1.0, maxval=1.0, dtype=jnp.float32)\n",
        "  b = jax.random.uniform(key=seed, minval=-1.0, maxval=1.0, shape=(output_dim,), dtype=jnp.float32)\n",
        "  weights.append([w,b])\n",
        "\n",
        "  return weights"
      ],
      "metadata": {
        "id": "cn-nWG9hfv2d"
      },
      "execution_count": 5,
      "outputs": []
    },
    {
      "cell_type": "code",
      "source": [
        "# Non-linear activation function\n",
        "\n",
        "def relu(x):\n",
        "  return jnp.maximum(x, jnp.zeros_like(x))"
      ],
      "metadata": {
        "id": "LFlydrzJfz6Y"
      },
      "execution_count": 6,
      "outputs": []
    },
    {
      "cell_type": "code",
      "source": [
        "# Linear layer\n",
        "\n",
        "def linear(weights, input, activation=lambda x: x):\n",
        "  weights, bias = weights\n",
        "  out = jnp.dot(input, weights) + bias\n",
        "  return activation(out)"
      ],
      "metadata": {
        "id": "tPT0w_9Tf7TC"
      },
      "execution_count": 7,
      "outputs": []
    },
    {
      "cell_type": "code",
      "source": [
        "# Forward pass\n",
        "\n",
        "def forward(weights, input):\n",
        "  layer_out = input\n",
        "\n",
        "  for i in range(len(weights[:-1])):\n",
        "    layer_out = linear(weights[i], layer_out, relu)\n",
        "\n",
        "  preds = linear(weights[-1], layer_out)\n",
        "\n",
        "  return preds.squeeze()"
      ],
      "metadata": {
        "id": "oMV1BGfkf7N4"
      },
      "execution_count": 8,
      "outputs": []
    },
    {
      "cell_type": "code",
      "source": [
        "# Error function - Mean Square Error\n",
        "\n",
        "def mean_squared_error(weights, input, actual):\n",
        "    preds = forward(weights, input)\n",
        "    return jnp.power(actual - preds, 2).mean()"
      ],
      "metadata": {
        "id": "O81ghssUgC_7"
      },
      "execution_count": 9,
      "outputs": []
    },
    {
      "cell_type": "code",
      "source": [
        "# Computing gradients using JAX grad\n",
        "\n",
        "def backward(weights, input, actual):\n",
        "    loss = grad(mean_squared_error)\n",
        "    gradients = loss(weights, input, actual)\n",
        "    return gradients"
      ],
      "metadata": {
        "id": "_sRDidcigFKB"
      },
      "execution_count": 10,
      "outputs": []
    },
    {
      "cell_type": "code",
      "source": [
        "# Train network\n",
        "\n",
        "def train(weights, x, y_true, learning_rate, num_epochs):\n",
        "  loss_ =  []\n",
        "\n",
        "  for epoch in range(num_epochs):\n",
        "    loss_value = mean_squared_error(weights, x, y_true)\n",
        "    gradients = backward(weights, x, y_true)\n",
        "\n",
        "    # Update Weights\n",
        "    for j in range(len(weights)):\n",
        "      weights[j][0] -= learning_rate * gradients[j][0] \n",
        "      weights[j][1] -= learning_rate * gradients[j][1]\n",
        "\n",
        "    print(f'Epoch {epoch}, loss {loss_value}')\n",
        "    loss_.append(loss_value)\n",
        "\n",
        "  return loss_"
      ],
      "metadata": {
        "id": "ddQ4yv6-gGAk"
      },
      "execution_count": 11,
      "outputs": []
    },
    {
      "cell_type": "code",
      "source": [
        "\n",
        "# Initialize weights\n",
        "weights = initialize_weights(input_dim, output_dim, hidden_dim, seed)\n",
        "\n",
        "# Train model\n",
        "loss_ = train(weights, x, y_true, learning_rate, num_epochs)"
      ],
      "metadata": {
        "colab": {
          "base_uri": "https://localhost:8080/"
        },
        "id": "VUCtKlEWgIQF",
        "outputId": "59d054ab-d200-4034-c745-fb7cf4c98e38"
      },
      "execution_count": 12,
      "outputs": [
        {
          "output_type": "stream",
          "name": "stdout",
          "text": [
            "Epoch 0, loss 16.01488494873047\n",
            "Epoch 1, loss 15.358464241027832\n",
            "Epoch 2, loss 15.054459571838379\n",
            "Epoch 3, loss 14.810151100158691\n",
            "Epoch 4, loss 14.604357719421387\n",
            "Epoch 5, loss 14.428594589233398\n",
            "Epoch 6, loss 14.27801513671875\n",
            "Epoch 7, loss 14.147966384887695\n",
            "Epoch 8, loss 14.034889221191406\n",
            "Epoch 9, loss 13.936592102050781\n",
            "Epoch 10, loss 13.851147651672363\n",
            "Epoch 11, loss 13.776599884033203\n",
            "Epoch 12, loss 13.711186408996582\n",
            "Epoch 13, loss 13.653763771057129\n",
            "Epoch 14, loss 13.603259086608887\n",
            "Epoch 15, loss 13.558711051940918\n",
            "Epoch 16, loss 13.519091606140137\n",
            "Epoch 17, loss 13.483972549438477\n",
            "Epoch 18, loss 13.452691078186035\n",
            "Epoch 19, loss 13.42475700378418\n",
            "Epoch 20, loss 13.399765014648438\n",
            "Epoch 21, loss 13.377339363098145\n",
            "Epoch 22, loss 13.3571195602417\n",
            "Epoch 23, loss 13.338857650756836\n",
            "Epoch 24, loss 13.322324752807617\n",
            "Epoch 25, loss 13.307332038879395\n",
            "Epoch 26, loss 13.293701171875\n",
            "Epoch 27, loss 13.28127384185791\n",
            "Epoch 28, loss 13.269878387451172\n",
            "Epoch 29, loss 13.259432792663574\n",
            "Epoch 30, loss 13.24980640411377\n",
            "Epoch 31, loss 13.240920066833496\n",
            "Epoch 32, loss 13.232682228088379\n",
            "Epoch 33, loss 13.2250337600708\n",
            "Epoch 34, loss 13.217917442321777\n",
            "Epoch 35, loss 13.211265563964844\n",
            "Epoch 36, loss 13.205052375793457\n",
            "Epoch 37, loss 13.199219703674316\n",
            "Epoch 38, loss 13.193751335144043\n",
            "Epoch 39, loss 13.188590049743652\n",
            "Epoch 40, loss 13.183732986450195\n",
            "Epoch 41, loss 13.17912769317627\n",
            "Epoch 42, loss 13.174779891967773\n",
            "Epoch 43, loss 13.17068099975586\n",
            "Epoch 44, loss 13.166804313659668\n",
            "Epoch 45, loss 13.16311264038086\n",
            "Epoch 46, loss 13.159621238708496\n",
            "Epoch 47, loss 13.15627670288086\n",
            "Epoch 48, loss 13.153104782104492\n",
            "Epoch 49, loss 13.150078773498535\n"
          ]
        }
      ]
    },
    {
      "cell_type": "code",
      "source": [
        "# Plot epoch vs loss\n",
        "\n",
        "plt.figure(figsize=(8, 5))\n",
        "plt.plot(range(num_epochs), loss_, label='Loss')\n",
        "plt.legend()"
      ],
      "metadata": {
        "colab": {
          "base_uri": "https://localhost:8080/",
          "height": 337
        },
        "id": "e7dGwX1OgNVA",
        "outputId": "d4fd27f9-9a02-4bd9-fced-ee7fc55930bb"
      },
      "execution_count": 13,
      "outputs": [
        {
          "output_type": "execute_result",
          "data": {
            "text/plain": [
              "<matplotlib.legend.Legend at 0x7fcc804212b0>"
            ]
          },
          "metadata": {},
          "execution_count": 13
        },
        {
          "output_type": "display_data",
          "data": {
            "text/plain": [
              "<Figure size 576x360 with 1 Axes>"
            ],
            "image/png": "[encoded data removed]"
          },
          "metadata": {
            "needs_background": "light"
          }
        }
      ]
    },
    {
      "cell_type": "markdown",
      "source": [
        "**Using high-level API**"
      ],
      "metadata": {
        "id": "GcWfgS9lgQhy"
      }
    },
    {
      "cell_type": "code",
      "source": [
        "# Create 3 layer deep neural network with non-linear activation function\n",
        "\n",
        "init, apply = stax.serial(stax.Dense(input_dim),\n",
        "                          stax.Relu,\n",
        "                          stax.Dense(hidden_dim),\n",
        "                          stax.Relu,\n",
        "                          stax.Dense(hidden_dim),\n",
        "                          stax.Relu,\n",
        "                          stax.Dense(output_dim),\n",
        "                          )"
      ],
      "metadata": {
        "id": "vlND-BRlgQSo"
      },
      "execution_count": 14,
      "outputs": []
    },
    {
      "cell_type": "code",
      "source": [
        "# Loss function\n",
        "\n",
        "def mean_squared_error(weights, input, y_true):\n",
        "    y_pred = apply(weights, input).squeeze()\n",
        "    return jnp.power(y_true - y_pred, 2).mean()"
      ],
      "metadata": {
        "id": "73aKGMbOgUxE"
      },
      "execution_count": 15,
      "outputs": []
    },
    {
      "cell_type": "code",
      "source": [
        "# Training neural netwrok method\n",
        "\n",
        "def train(x, y_true, num_epochs, opt_state):\n",
        "  loss_ = []\n",
        "\n",
        "  for epoch in range(num_epochs):\n",
        "    # Optimizer state is an object that has weights of our model\n",
        "    loss_value, gradients = value_and_grad(mean_squared_error)(optimizer_get_weights(opt_state), x, y_true)\n",
        "\n",
        "    # Update Weights\n",
        "    opt_state = optimizer_update(epoch, gradients, opt_state)\n",
        "\n",
        "    loss_.append(loss_value)\n",
        "    print(f'Epoch {epoch}, loss {loss_value}')\n",
        "\n",
        "  return opt_state, loss_"
      ],
      "metadata": {
        "id": "ZVS5WwmIgWuo"
      },
      "execution_count": 16,
      "outputs": []
    },
    {
      "cell_type": "code",
      "source": [
        "# Initialize weights by passing input dimensions to init function \n",
        "\n",
        "weights = init(seed, (x.shape[1],))\n",
        "weights = weights[1]\n",
        "\n",
        "optimizer_init, optimizer_update, optimizer_get_weights = optimizers.sgd(learning_rate)\n",
        "optimizer_state = optimizer_init(weights)\n",
        "\n",
        "final_optimizer_state, loss_ = train(x, y_true, num_epochs, optimizer_state)"
      ],
      "metadata": {
        "colab": {
          "base_uri": "https://localhost:8080/"
        },
        "id": "nNr5d0s6gjPb",
        "outputId": "7928d053-c1bd-4644-d97e-62195f0cfc3e"
      },
      "execution_count": 18,
      "outputs": [
        {
          "output_type": "stream",
          "name": "stdout",
          "text": [
            "Epoch 0, loss 75.96087646484375\n",
            "Epoch 1, loss 70.9893569946289\n",
            "Epoch 2, loss 65.98839569091797\n",
            "Epoch 3, loss 60.5131721496582\n",
            "Epoch 4, loss 54.2773551940918\n",
            "Epoch 5, loss 47.08503723144531\n",
            "Epoch 6, loss 38.931175231933594\n",
            "Epoch 7, loss 30.187576293945312\n",
            "Epoch 8, loss 22.073396682739258\n",
            "Epoch 9, loss 16.4293155670166\n",
            "Epoch 10, loss 14.02153205871582\n",
            "Epoch 11, loss 13.496599197387695\n",
            "Epoch 12, loss 13.423036575317383\n",
            "Epoch 13, loss 13.397433280944824\n",
            "Epoch 14, loss 13.376322746276855\n",
            "Epoch 15, loss 13.356889724731445\n",
            "Epoch 16, loss 13.338944435119629\n",
            "Epoch 17, loss 13.32245922088623\n",
            "Epoch 18, loss 13.307555198669434\n",
            "Epoch 19, loss 13.293770790100098\n",
            "Epoch 20, loss 13.28096866607666\n",
            "Epoch 21, loss 13.269042015075684\n",
            "Epoch 22, loss 13.257913589477539\n",
            "Epoch 23, loss 13.247502326965332\n",
            "Epoch 24, loss 13.237747192382812\n",
            "Epoch 25, loss 13.228628158569336\n",
            "Epoch 26, loss 13.220063209533691\n",
            "Epoch 27, loss 13.21200180053711\n",
            "Epoch 28, loss 13.204388618469238\n",
            "Epoch 29, loss 13.197237968444824\n",
            "Epoch 30, loss 13.19049072265625\n",
            "Epoch 31, loss 13.184103012084961\n",
            "Epoch 32, loss 13.178088188171387\n",
            "Epoch 33, loss 13.172406196594238\n",
            "Epoch 34, loss 13.167037010192871\n",
            "Epoch 35, loss 13.161965370178223\n",
            "Epoch 36, loss 13.157170295715332\n",
            "Epoch 37, loss 13.152628898620605\n",
            "Epoch 38, loss 13.148327827453613\n",
            "Epoch 39, loss 13.144231796264648\n",
            "Epoch 40, loss 13.140356063842773\n",
            "Epoch 41, loss 13.136682510375977\n",
            "Epoch 42, loss 13.133185386657715\n",
            "Epoch 43, loss 13.129864692687988\n",
            "Epoch 44, loss 13.126707077026367\n",
            "Epoch 45, loss 13.123689651489258\n",
            "Epoch 46, loss 13.120816230773926\n",
            "Epoch 47, loss 13.11806583404541\n",
            "Epoch 48, loss 13.115450859069824\n",
            "Epoch 49, loss 13.11294937133789\n"
          ]
        }
      ]
    },
    {
      "cell_type": "code",
      "source": [
        "# Plot epoch vs loss\n",
        "\n",
        "plt.figure(figsize=(8, 5))\n",
        "plt.plot(range(num_epochs), loss_, label='Loss')\n",
        "plt.legend()"
      ],
      "metadata": {
        "colab": {
          "base_uri": "https://localhost:8080/",
          "height": 337
        },
        "id": "n4pQM9mAgsqY",
        "outputId": "d63f5b4c-371c-4fe1-9bfa-1096e282fd72"
      },
      "execution_count": 19,
      "outputs": [
        {
          "output_type": "execute_result",
          "data": {
            "text/plain": [
              "<matplotlib.legend.Legend at 0x7fcc712e2a00>"
            ]
          },
          "metadata": {},
          "execution_count": 19
        },
        {
          "output_type": "display_data",
          "data": {
            "text/plain": [
              "<Figure size 576x360 with 1 Axes>"
            ],
            "image/png": "[encoded data removed]"
          },
          "metadata": {
            "needs_background": "light"
          }
        }
      ]
    }
  ]
}